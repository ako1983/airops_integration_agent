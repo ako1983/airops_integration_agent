{
 "cells": [
  {
   "cell_type": "code",
   "id": "initial_id",
   "metadata": {
    "collapsed": true,
    "ExecuteTime": {
     "end_time": "2025-05-19T01:19:05.745225Z",
     "start_time": "2025-05-19T01:19:05.266036Z"
    }
   },
   "source": [
    "import langsmith\n",
    "print(dir(langsmith))  # This will show available modules\n",
    "print(langsmith.__version__)  # This will show your installed version"
   ],
   "outputs": [
    {
     "name": "stdout",
     "output_type": "stream",
     "text": [
      "['Client', 'EvaluationResult', 'RunEvaluator', 'RunTree', '__all__', '__builtins__', '__cached__', '__doc__', '__file__', '__loader__', '__name__', '__package__', '__path__', '__spec__', '__version__', 'client', 'env', 'evaluation', 'metadata', 'run_helpers', 'run_trees', 'schemas', 'trace', 'traceable', 'utils']\n",
      "0.1.0\n"
     ]
    }
   ],
   "execution_count": 1
  },
  {
   "metadata": {},
   "cell_type": "code",
   "outputs": [],
   "execution_count": null,
   "source": "",
   "id": "5af64fed0cd3d296"
  }
 ],
 "metadata": {
  "kernelspec": {
   "display_name": "Python 3",
   "language": "python",
   "name": "python3"
  },
  "language_info": {
   "codemirror_mode": {
    "name": "ipython",
    "version": 2
   },
   "file_extension": ".py",
   "mimetype": "text/x-python",
   "name": "python",
   "nbconvert_exporter": "python",
   "pygments_lexer": "ipython2",
   "version": "2.7.6"
  }
 },
 "nbformat": 4,
 "nbformat_minor": 5
}
